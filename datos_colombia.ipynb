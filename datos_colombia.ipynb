{
  "nbformat": 4,
  "nbformat_minor": 0,
  "metadata": {
    "colab": {
      "provenance": [],
      "mount_file_id": "1iv17VJgkebVv8J3KWWII2EHSqA2J2KHs",
      "authorship_tag": "ABX9TyOxl2DEp4Hor8Pqj6XEvU2Y",
      "include_colab_link": true
    },
    "kernelspec": {
      "name": "python3",
      "display_name": "Python 3"
    },
    "language_info": {
      "name": "python"
    }
  },
  "cells": [
    {
      "cell_type": "markdown",
      "metadata": {
        "id": "view-in-github",
        "colab_type": "text"
      },
      "source": [
        "<a href=\"https://colab.research.google.com/github/lllpipelll/Concatenar-base-de-datos/blob/main/datos_colombia.ipynb\" target=\"_parent\"><img src=\"https://colab.research.google.com/assets/colab-badge.svg\" alt=\"Open In Colab\"/></a>"
      ]
    },
    {
      "cell_type": "code",
      "execution_count": null,
      "metadata": {
        "colab": {
          "base_uri": "https://localhost:8080/"
        },
        "id": "64OmnCFhFy2u",
        "outputId": "6477ce7d-2936-4eaf-f0ad-58086f6816b5"
      },
      "outputs": [
        {
          "output_type": "stream",
          "name": "stdout",
          "text": [
            "Las bases de datos se han concatenado y guardado en: /content/drive/MyDrive/Ciencia de datos/Ciencia de datos   Andres Moncada/Corte 2/Colombia/Datos/datos_2006_2024.xlsx\n"
          ]
        }
      ],
      "source": [
        "import pandas as pd\n",
        "import os\n",
        "\n",
        "# Define the paths to the input files and the output directory\n",
        "file_path_2006_2018 = \"/content/drive/MyDrive/Ciencia de datos/Ciencia de datos   Andres Moncada/Corte 2/Colombia/Datos/datos_2006_2018.xlsx\"\n",
        "file_path_2019_2024 = \"/content/drive/MyDrive/Ciencia de datos/Ciencia de datos   Andres Moncada/Corte 2/Colombia/Datos/datos_2019_2024.xlsx\"\n",
        "output_dir = \"/content/drive/MyDrive/Ciencia de datos/Ciencia de datos   Andres Moncada/Corte 2/Colombia/Datos/\"\n",
        "output_file_name = \"datos_2006_2024.xlsx\"\n",
        "output_path = os.path.join(output_dir, output_file_name)\n",
        "\n",
        "# Read the Excel files into pandas DataFrames\n",
        "try:\n",
        "    df_2006_2018 = pd.read_excel(file_path_2006_2018)\n",
        "    df_2019_2024 = pd.read_excel(file_path_2019_2024)\n",
        "\n",
        "    # Concatenate the two DataFrames\n",
        "    concatenated_df = pd.concat([df_2006_2018, df_2019_2024], ignore_index=True)\n",
        "\n",
        "    # Save the concatenated DataFrame to a new Excel file\n",
        "    concatenated_df.to_excel(output_path, index=False)\n",
        "\n",
        "    print(f\"Las bases de datos se han concatenado y guardado en: {output_path}\")\n",
        "\n",
        "except FileNotFoundError:\n",
        "    print(\"Error: Uno o ambos archivos de entrada no fueron encontrados. Por favor, verifica las rutas.\")\n",
        "except Exception as e:\n",
        "    print(f\"Ocurrió un error: {e}\")"
      ]
    },
    {
      "cell_type": "code",
      "source": [
        "import pandas as pd\n",
        "import os\n",
        "\n",
        "# Define the path to the Excel file\n",
        "file_path = \"/content/drive/MyDrive/Ciencia de datos/Ciencia de datos   Andres Moncada/Corte 2/Colombia/Datos/Columnas editadas 1.xlsx\"\n",
        "\n",
        "# Define the output path for the new Excel file\n",
        "output_dir = os.path.dirname(file_path)\n",
        "output_file_name = \"Columnas editadas 1_modificado.xlsx\"\n",
        "output_path = os.path.join(output_dir, output_file_name)\n",
        "\n",
        "# Read the Excel file into a pandas DataFrame\n",
        "try:\n",
        "    df = pd.read_excel(file_path)\n",
        "\n",
        "    # Check if columns A and B exist\n",
        "    if 'A' in df.columns and 'B' in df.columns:\n",
        "        # Replace values in column A with values from column B\n",
        "        df['A'] = df['B']\n",
        "\n",
        "        # Save the modified DataFrame to a new Excel file\n",
        "        df.to_excel(output_path, index=False)\n",
        "\n",
        "        print(f\"Los valores de la columna A han sido reemplazados por los valores de la columna B.\")\n",
        "        print(f\"El DataFrame modificado ha sido guardado en: {output_path}\")\n",
        "    else:\n",
        "        print(\"Error: Las columnas 'A' o 'B' no se encontraron en el archivo.\")\n",
        "\n",
        "except FileNotFoundError:\n",
        "    print(f\"Error: El archivo no fue encontrado en la ruta: {file_path}\")\n",
        "except Exception as e:\n",
        "    print(f\"Ocurrió un error: {e}\")"
      ],
      "metadata": {
        "colab": {
          "base_uri": "https://localhost:8080/"
        },
        "id": "2fco4BGFV_Av",
        "outputId": "5292fc0f-656b-4d5c-fb26-3f1cf95093ec"
      },
      "execution_count": null,
      "outputs": [
        {
          "output_type": "stream",
          "name": "stdout",
          "text": [
            "Los valores de la columna A han sido reemplazados por los valores de la columna B.\n",
            "El DataFrame modificado ha sido guardado en: /content/drive/MyDrive/Ciencia de datos/Ciencia de datos   Andres Moncada/Corte 2/Colombia/Datos/Columnas editadas 1_modificado.xlsx\n"
          ]
        }
      ]
    },
    {
      "cell_type": "code",
      "source": [
        "import pandas as pd\n",
        "import os\n",
        "\n",
        "# Define file paths\n",
        "data_file_path = \"/content/drive/MyDrive/Ciencia de datos/Ciencia de datos   Andres Moncada/Corte 2/Colombia/Datos/datos_2006_2024.xlsx\"\n",
        "corrections_file_path = \"/content/drive/MyDrive/Ciencia de datos/Ciencia de datos   Andres Moncada/Corte 2/Colombia/Datos/Columnas editadas 1.xlsx\"\n",
        "output_dir = \"/content/drive/MyDrive/Ciencia de datos/Ciencia de datos   Andres Moncada/Corte 2/Colombia/Datos/\"\n",
        "output_file_name = \"datos_2006_2024_cultivos_corregidos.xlsx\" # Changed output file name\n",
        "output_path = os.path.join(output_dir, output_file_name)\n",
        "\n",
        "try:\n",
        "    # Read the main data file and the corrections file\n",
        "    df_data = pd.read_excel(data_file_path)\n",
        "    df_corrections = pd.read_excel(corrections_file_path)\n",
        "\n",
        "    # Create a dictionary mapping original department names (Column A) to corrected names (Column B)\n",
        "    # Handle potential NaN values in corrections file\n",
        "    correction_map = df_corrections.set_index('A')['B'].dropna().to_dict()\n",
        "\n",
        "    # Apply the mapping to the 'Cultivo' column in the main data file (Changed column name)\n",
        "    # Use .get() with the original value as a default to keep departments not in the corrections file\n",
        "    df_data['Cultivo'] = df_data['Cultivo'].apply(lambda x: correction_map.get(x, x))\n",
        "\n",
        "\n",
        "    # Save the modified DataFrame to a new Excel file\n",
        "    df_data.to_excel(output_path, index=False)\n",
        "\n",
        "    print(f\"La columna 'Cultivo' en '{data_file_path}' ha sido actualizada con las correcciones.\") # Changed print message\n",
        "    print(f\"El DataFrame modificado ha sido guardado en: {output_path}\")\n",
        "\n",
        "except FileNotFoundError:\n",
        "    print(\"Error: Uno o ambos archivos no fueron encontrados. Por favor, verifica las rutas.\")\n",
        "except KeyError as e:\n",
        "    print(f\"Error: Una de las columnas esperadas no se encontró en el archivo de correcciones: {e}\")\n",
        "except Exception as e:\n",
        "    print(f\"Ocurrió un error: {e}\")"
      ],
      "metadata": {
        "colab": {
          "base_uri": "https://localhost:8080/"
        },
        "id": "zSG1hxMCcIpO",
        "outputId": "50528291-f362-41f5-e483-ca55cd20c55d"
      },
      "execution_count": null,
      "outputs": [
        {
          "output_type": "stream",
          "name": "stdout",
          "text": [
            "La columna 'Cultivo' en '/content/drive/MyDrive/Ciencia de datos/Ciencia de datos   Andres Moncada/Corte 2/Colombia/Datos/datos_2006_2024.xlsx' ha sido actualizada con las correcciones.\n",
            "El DataFrame modificado ha sido guardado en: /content/drive/MyDrive/Ciencia de datos/Ciencia de datos   Andres Moncada/Corte 2/Colombia/Datos/datos_2006_2024_cultivos_corregidos.xlsx\n"
          ]
        }
      ]
    }
  ]
}